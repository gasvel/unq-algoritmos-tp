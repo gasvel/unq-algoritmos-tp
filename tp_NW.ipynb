{
 "cells": [
  {
   "cell_type": "code",
   "execution_count": 1,
   "id": "605bee60",
   "metadata": {},
   "outputs": [],
   "source": [
    "import numpy as np\n",
    "from Bio import pairwise2, SeqIO\n",
    "from enum import Enum"
   ]
  },
  {
   "cell_type": "code",
   "execution_count": 13,
   "id": "7a1be7ea",
   "metadata": {},
   "outputs": [],
   "source": [
    "class op(Enum):\n",
    "    GAP_A = 1\n",
    "    GAP_B = 2\n",
    "    MA_MM = 3\n",
    "    \n",
    "def nw(seqA_str, seqB_str, score_mtx, gap_score = 0):\n",
    "    na = len(seqA_str)\n",
    "    nb = len(seqB_str)\n",
    "\n",
    "    score_mtx = np.zeros((na + 1, nb + 1))\n",
    "    score_mtx[:,0] = np.linspace(0, -na, na + 1)\n",
    "    score_mtx[0,:] = np.linspace(0, -nb, nb + 1)\n",
    "\n",
    "    tabla_sol = np.repeat(op.GAP_A, (na+1) * (nb+1)).reshape(na+1, nb+1)\n",
    "    tabla_sol[:,0] = op.GAP_B\n",
    "    tabla_sol[0,:] = op.GAP_A\n",
    "    \n",
    "    t = np.zeros(3)\n",
    "    for i in range(na):\n",
    "        for j in range(nb): \n",
    "            if seqA_str[i] == seqB_str[j]:\n",
    "                t[0] = score_mtx[i,j] + 1\n",
    "            else:\n",
    "                t[0] = score_mtx[i,j] - 0\n",
    "            t[1] = score_mtx[i,j+1] - gap_score\n",
    "            t[2] = score_mtx[i+1,j] - gap_score\n",
    "            tmax = np.max(t)\n",
    "            score_mtx[i+1,j+1] = tmax\n",
    "            if t[0] == tmax:\n",
    "                tabla_sol[i+1,j+1] = op.MA_MM\n",
    "            elif t[1] == tmax:\n",
    "                tabla_sol[i+1,j+1] = op.GAP_B\n",
    "            elif t[2] == tmax:\n",
    "                tabla_sol[i+1,j+1] = op.GAP_A\n",
    "\n",
    "    aln_a,aln_b = traceback(tabla_sol,seqA_str,seqB_str)\n",
    "    \n",
    "    return aln_a,aln_b,score_mtx[na,nb]\n",
    "\n",
    "def traceback(tabla_sol, seqA, seqB):\n",
    "    i = len(seqA)\n",
    "    j = len(seqB)\n",
    "    aln_a = []\n",
    "    aln_b = []\n",
    "    while i > 0 or j > 0:\n",
    "        if tabla_sol[i,j] == op.MA_MM:\n",
    "            aln_a.append(seqA[i-1])\n",
    "            aln_b.append(seqB[j-1])\n",
    "            i -= 1\n",
    "            j -= 1\n",
    "        elif tabla_sol[i,j] == op.GAP_B:\n",
    "            aln_a.append(seqA[i-1])\n",
    "            aln_b.append('-')\n",
    "            i -= 1\n",
    "        elif tabla_sol[i,j] == op.GAP_A:\n",
    "            aln_a.append('-')\n",
    "            aln_b.append(seqB[j-1])\n",
    "            j -= 1\n",
    "\n",
    "    aln_a = ''.join(aln_a)[::-1]\n",
    "    aln_b = ''.join(aln_b)[::-1]\n",
    "    return aln_a, aln_b"
   ]
  },
  {
   "cell_type": "code",
   "execution_count": 14,
   "id": "91247b2f",
   "metadata": {},
   "outputs": [
    {
     "data": {
      "text/plain": [
       "157.0"
      ]
     },
     "execution_count": 14,
     "metadata": {},
     "output_type": "execute_result"
    }
   ],
   "source": [
    "# Toma de input\n",
    "f_aln = SeqIO.parse(\"ab.fasta\", 'fasta')\n",
    "fas_A = next(f_aln)\n",
    "fas_B = next(f_aln)\n",
    "seq_A = str(fas_A.seq)\n",
    "seq_B = str(fas_B.seq)\n",
    "# Confirme el score\n",
    "score_mtx_1 = []\n",
    "aln_a, aln_b, score = nw(seq_A, seq_B, score_mtx_1)\n",
    "score"
   ]
  },
  {
   "cell_type": "code",
   "execution_count": 15,
   "id": "04d7efad",
   "metadata": {},
   "outputs": [
    {
     "name": "stdout",
     "output_type": "stream",
     "text": [
      "CAACCCGGGGACAGAGTACTGGCCGCGGATTACGACGGA-AACCCGGTTTATACCGACTTCATCATGTTCAA\n",
      "---CCC---GAC--ATTA-T-----C--TTTA--A-GGATGA---GG-----A--GA----A-CA----C-G\n"
     ]
    }
   ],
   "source": [
    "# Visualice el alineamiento. Recuerde que no es necesario que sea idéntico al de Biopython\n",
    "str_aln_a = str().join(aln_a)\n",
    "str_aln_b = str().join(aln_b)\n",
    "\n",
    "print(str_aln_a[300:])\n",
    "print(str_aln_b[300:])"
   ]
  },
  {
   "cell_type": "code",
   "execution_count": 16,
   "id": "786fda84",
   "metadata": {},
   "outputs": [],
   "source": [
    "# Toma de input\n",
    "f_aln = SeqIO.parse(\"ae.fasta\", 'fasta')\n",
    "fas_A = next(f_aln)\n",
    "fas_E = next(f_aln)\n",
    "\n",
    "seq_A = str(fas_A.seq)\n",
    "seq_E = str(fas_E.seq)"
   ]
  },
  {
   "cell_type": "code",
   "execution_count": 17,
   "id": "a5aaeac6",
   "metadata": {},
   "outputs": [
    {
     "data": {
      "text/plain": [
       "312.0"
      ]
     },
     "execution_count": 17,
     "metadata": {},
     "output_type": "execute_result"
    }
   ],
   "source": [
    "# Confirme el score\n",
    "aln_a, aln_e, score = nw(seq_A, seq_E, score_mtx_1)\n",
    "score"
   ]
  },
  {
   "cell_type": "code",
   "execution_count": 18,
   "id": "4bd7f703",
   "metadata": {},
   "outputs": [
    {
     "name": "stdout",
     "output_type": "stream",
     "text": [
      "GACAGAGTACTGGCCGCGGATTACG-ACGGAAACCCGGTTTATACCGACTTCATCATGTTCAA\n",
      "GACAGGGTCCTGGCAGCAGATGA-GAACGGAAACCCGATTTACACCGAC-TC--C---TT---\n"
     ]
    }
   ],
   "source": [
    "# Visualice el alineamiento. Recuerde que no es necesario que sea idéntico al de Biopython\n",
    "str_aln_a = str().join(aln_a)\n",
    "str_aln_e = str().join(aln_e)\n",
    "\n",
    "print(str_aln_a[300:])\n",
    "print(str_aln_e[300:])"
   ]
  },
  {
   "cell_type": "code",
   "execution_count": null,
   "id": "8b77dcd8",
   "metadata": {},
   "outputs": [],
   "source": []
  }
 ],
 "metadata": {
  "kernelspec": {
   "display_name": "Python 3",
   "language": "python",
   "name": "python3"
  },
  "language_info": {
   "codemirror_mode": {
    "name": "ipython",
    "version": 3
   },
   "file_extension": ".py",
   "mimetype": "text/x-python",
   "name": "python",
   "nbconvert_exporter": "python",
   "pygments_lexer": "ipython3",
   "version": "3.8.8"
  }
 },
 "nbformat": 4,
 "nbformat_minor": 5
}
